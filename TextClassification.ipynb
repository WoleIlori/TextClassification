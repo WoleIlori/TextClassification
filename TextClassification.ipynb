{
  "nbformat": 4,
  "nbformat_minor": 0,
  "metadata": {
    "colab": {
      "name": "TextClassification.ipynb",
      "version": "0.3.2",
      "provenance": []
    },
    "kernelspec": {
      "display_name": "Python 3",
      "language": "python",
      "name": "python3"
    }
  },
  "cells": [
    {
      "metadata": {
        "id": "bvdXSaFCxlMe",
        "colab_type": "code",
        "colab": {}
      },
      "cell_type": "code",
      "source": [
        "from bs4 import BeautifulSoup\n",
        "import urllib.request\n",
        "import pandas as pd\n",
        "from collections import defaultdict"
      ],
      "execution_count": 0,
      "outputs": []
    },
    {
      "metadata": {
        "id": "NGPF9chMxlMs",
        "colab_type": "code",
        "colab": {}
      },
      "cell_type": "code",
      "source": [
        "site_link = \"http://mlg.ucd.ie/modules/yalp/\""
      ],
      "execution_count": 0,
      "outputs": []
    },
    {
      "metadata": {
        "id": "zcCkF8vRxlM5",
        "colab_type": "code",
        "colab": {}
      },
      "cell_type": "code",
      "source": [
        "#Automotive category\n",
        "#get all the url links in automative category\n",
        "auto_link = \"http://mlg.ucd.ie/modules/yalp/automotive_list.html\"\n",
        "auto_review_links = []\n",
        "    \n",
        "try:\n",
        "    cat1_response = urllib.request.urlopen(auto_link)\n",
        "    auto_html = BeautifulSoup(cat1_response, 'html.parser')\n",
        "\n",
        "    for link in auto_html.find_all('a'):\n",
        "        auto_review_links.append(link.get('href'))\n",
        "        \n",
        "except urllib.error.HTTPError as e:\n",
        "    print(\"Error Message:\", e)"
      ],
      "execution_count": 0,
      "outputs": []
    },
    {
      "metadata": {
        "id": "WIEnbUBqxlNL",
        "colab_type": "code",
        "colab": {}
      },
      "cell_type": "code",
      "source": [
        "html_doc = \"\"\"\n",
        "<div class='review'>\n",
        "\t\t\t<p class='review-top'><b>Reviewed on 2017-08-02</b> by <i>Debbie Decesare</i></p><p class='stars'><img src='images/stars-5.png' alt='5-star'></p><p class='text'>Al Lake, the owner, is first rate. He has owned this place for 20 years and been in the business for 34 years. He knows transmissions. I first called the dealer and the quote I got for my Transmission service was $399, typical dealer price. Al&#x27;s price was less than half. But more importantly I feel he gave it a personal touch of somebody who cared. It was the first time I&#x27;ve used 1st Choice Transmission and I will be sure to use him whenever I have a Transmission problem. 5 stars for sure.</p>\n",
        "\t\t\t</div>\n",
        "\t\t\t<div class='review'>\n",
        "\t\t\t<p class='review-top'><b>Reviewed on 2017-05-31</b> by <i>Edward Sawyer</i></p><p class='stars'><img src='images/stars-5.png' alt='5-star'></p><p class='text'>This shop has been great to work with ... they went over and beyond to service my car .. after researching other places 1st choice had the best prices ... I believe the owners name is Al and he really strives to make his customers happy ... very happy .... this will be my new shop ..</p>\n",
        "\t\t\t</div>\n",
        "\"\"\""
      ],
      "execution_count": 0,
      "outputs": []
    },
    {
      "metadata": {
        "id": "3yDI_C8BxlNW",
        "colab_type": "code",
        "colab": {}
      },
      "cell_type": "code",
      "source": [
        "#scrape each site \n",
        "dataset = defaultdict(list)\n",
        "err_sites = []\n",
        "negative_rat = [\"1-star\", \"2-star\", \"3-star\"]\n",
        "positive_rat = [\"4_star\", \"5-star\"]\n",
        "pos_label = \"positive\"\n",
        "neg_label = \"negative\"\n",
        "sentiment = \"\"\n",
        "missing_rats = []\n",
        "for link in auto_review_links:\n",
        "    i = 0\n",
        "    try:\n",
        "        response = urllib.request.urlopen(site_link +link)\n",
        "        html = BeautifulSoup(response, 'html.parser')\n",
        "        for review in html.find_all(class_=\"review\"):\n",
        "            #get text\n",
        "            dataset[\"text\"].append(review.find(class_=\"text\").get_text())\n",
        "            \n",
        "            #add its sentiment value\n",
        "            if review.img[\"alt\"] in positive_rat:\n",
        "                sentiment = pos_label\n",
        "                dataset[\"sentiment\"].append(pos_label)\n",
        "            elif review.img[\"alt\"] in negative_rat:\n",
        "                sentiment = neg_label\n",
        "                dataset[\"sentiment\"].append(neg_label)\n",
        "            \n",
        "            if sentiment == \"\":\n",
        "                missing = i, (site + link)\n",
        "                missing_rats.append(missing)\n",
        "            i+=1\n",
        "                \n",
        "    except urllib.error.HTTPError:\n",
        "        err.sites.append(site_link + link)"
      ],
      "execution_count": 0,
      "outputs": []
    },
    {
      "metadata": {
        "id": "uTJuv5wNxlNe",
        "colab_type": "code",
        "colab": {},
        "outputId": "234cd477-4288-4e2f-d11b-0362ee3a9493"
      },
      "cell_type": "code",
      "source": [
        "#frame = pd.DataFrame(dataset)\n",
        "{key:len(value) for key, value in dataset.items()}\n"
      ],
      "execution_count": 0,
      "outputs": [
        {
          "output_type": "execute_result",
          "data": {
            "text/plain": [
              "{'sentiment': 1378, 'text': 1455}"
            ]
          },
          "metadata": {
            "tags": []
          },
          "execution_count": 107
        }
      ]
    }
  ]
}